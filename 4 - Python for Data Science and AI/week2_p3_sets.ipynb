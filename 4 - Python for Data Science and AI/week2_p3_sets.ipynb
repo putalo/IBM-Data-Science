{
 "cells": [
  {
   "cell_type": "code",
   "execution_count": 6,
   "metadata": {},
   "outputs": [
    {
     "data": {
      "text/plain": [
       "{5, 7, 'A', 'Bat', 'C', 'Z', 'Zebra'}"
      ]
     },
     "metadata": {},
     "output_type": "display_data"
    }
   ],
   "source": [
    "#Sets:\n",
    "#> a type of collection like lists and tuples: input different Python types\n",
    "#> sets are unordered while orders matter in lists and tuples\n",
    "#> have unique elements: only one particular element in a set\n",
    "\n",
    "# so if you create duplicates, only one will show\n",
    "\n",
    "\n",
    "set1={\"A\",\"A\",\"C\",\"Bat\",\"Zebra\",7, 5,\"Z\"}\n",
    "display(set1)"
   ]
  },
  {
   "cell_type": "code",
   "execution_count": 7,
   "metadata": {},
   "outputs": [
    {
     "data": {
      "text/plain": [
       "{1, 2, 5, 'OMG Hi Sister', 'Poker Face'}"
      ]
     },
     "metadata": {},
     "output_type": "display_data"
    }
   ],
   "source": [
    "# convert list to set\n",
    "list1=[1,2,5,\"Poker Face\",\"OMG Hi Sister\"]\n",
    "set2=set(list1)\n",
    "display(set2)"
   ]
  },
  {
   "cell_type": "code",
   "execution_count": 12,
   "metadata": {},
   "outputs": [
    {
     "data": {
      "text/plain": [
       "{'Bad Romance', 'Born This Way', 'Just Dance', 'Poker Face'}"
      ]
     },
     "metadata": {},
     "output_type": "display_data"
    },
    {
     "data": {
      "text/plain": [
       "{'Bad Romance', 'Born This Way', 'Poker Face'}"
      ]
     },
     "metadata": {},
     "output_type": "display_data"
    },
    {
     "data": {
      "text/plain": [
       "False"
      ]
     },
     "metadata": {},
     "output_type": "display_data"
    }
   ],
   "source": [
    "# set operations\n",
    "# adding elements\n",
    "A={\"Poker Face\", \"Bad Romance\", \"Just Dance\"}\n",
    "A.add(\"Born This Way\")\n",
    "display (A)\n",
    "# remove elements\n",
    "A.remove(\"Just Dance\")\n",
    "display(A)\n",
    "# check if elements in the set\n",
    "display(\"Artpop\" in A)"
   ]
  },
  {
   "cell_type": "code",
   "execution_count": 13,
   "metadata": {},
   "outputs": [
    {
     "data": {
      "text/plain": [
       "{'Bad Romance'}"
      ]
     },
     "metadata": {},
     "output_type": "display_data"
    }
   ],
   "source": [
    "# mathematical operations in sets\n",
    "# intersection of two sets: 'and'\n",
    "songs1= {\"Just Dance\", \"Bad Romance\",\"Relax\"}\n",
    "songs2= {\"Bad Romance\", \"Artpop\"}\n",
    "songs_common=songs1&songs2\n",
    "display(songs_common)"
   ]
  },
  {
   "cell_type": "code",
   "execution_count": 14,
   "metadata": {},
   "outputs": [
    {
     "data": {
      "text/plain": [
       "{'Artpop', 'Bad Romance', 'Just Dance', 'Relax'}"
      ]
     },
     "metadata": {},
     "output_type": "display_data"
    }
   ],
   "source": [
    "# mathematical operations in sets\n",
    "# union of two sets: 'union'\n",
    "songs1= {\"Just Dance\", \"Bad Romance\",\"Relax\"}\n",
    "songs2= {\"Bad Romance\", \"Artpop\"}\n",
    "songs_all=songs1.union(songs2)\n",
    "display(songs_all)"
   ]
  },
  {
   "cell_type": "code",
   "execution_count": 16,
   "metadata": {},
   "outputs": [
    {
     "data": {
      "text/plain": [
       "True"
      ]
     },
     "metadata": {},
     "output_type": "display_data"
    },
    {
     "data": {
      "text/plain": [
       "False"
      ]
     },
     "metadata": {},
     "output_type": "display_data"
    }
   ],
   "source": [
    "# subset? use .issubset\n",
    "songs1={\"Just Dance\", \"Bad Romance\",\"Relax\"}\n",
    "songs2={\"Just Dance\", \"Bad Romance\"}\n",
    "display(songs2.issubset(songs1))\n",
    "display(songs1.issubset(songs2))"
   ]
  }
 ],
 "metadata": {
  "kernelspec": {
   "display_name": "Python 3",
   "language": "python",
   "name": "python3"
  },
  "language_info": {
   "codemirror_mode": {
    "name": "ipython",
    "version": 3
   },
   "file_extension": ".py",
   "mimetype": "text/x-python",
   "name": "python",
   "nbconvert_exporter": "python",
   "pygments_lexer": "ipython3",
   "version": "3.7.6"
  }
 },
 "nbformat": 4,
 "nbformat_minor": 4
}
